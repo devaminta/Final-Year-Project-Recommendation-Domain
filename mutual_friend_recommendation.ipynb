{
  "nbformat": 4,
  "nbformat_minor": 0,
  "metadata": {
    "colab": {
      "provenance": [],
      "mount_file_id": "1dP4ZMasTh-vYPYI-V_mLDzHuA3-TPFG7",
      "authorship_tag": "ABX9TyPf2r6NgKWXUm86RiC2V8nm",
      "include_colab_link": true
    },
    "kernelspec": {
      "name": "python3",
      "display_name": "Python 3"
    },
    "language_info": {
      "name": "python"
    }
  },
  "cells": [
    {
      "cell_type": "markdown",
      "metadata": {
        "id": "view-in-github",
        "colab_type": "text"
      },
      "source": [
        "<a href=\"https://colab.research.google.com/github/devaminta/Final-Year-Project-Recommendation-Domain/blob/main/mutual_friend_recommendation.ipynb\" target=\"_parent\"><img src=\"https://colab.research.google.com/assets/colab-badge.svg\" alt=\"Open In Colab\"/></a>"
      ]
    },
    {
      "cell_type": "code",
      "source": [
        "from google.colab import drive\n",
        "drive.mount('/content/drive')"
      ],
      "metadata": {
        "colab": {
          "base_uri": "https://localhost:8080/"
        },
        "id": "RU-oSEidWoDW",
        "outputId": "346b89a0-8b69-4ab0-87b9-eb30bbcaf375"
      },
      "execution_count": 2,
      "outputs": [
        {
          "output_type": "stream",
          "name": "stdout",
          "text": [
            "Mounted at /content/drive\n"
          ]
        }
      ]
    },
    {
      "cell_type": "code",
      "execution_count": 3,
      "metadata": {
        "id": "gPdH3g2uVj_b"
      },
      "outputs": [],
      "source": [
        "import networkx as nx\n",
        "import pandas as pd\n",
        "import numpy as np\n",
        "from sklearn.metrics.pairwise import cosine_similarity\n"
      ]
    },
    {
      "cell_type": "code",
      "source": [
        "file_path = \"/content/drive/MyDrive/train.csv\"\n",
        "\n",
        "df = pd.read_csv(file_path)\n",
        "print(df.head())\n",
        "\n",
        "G = nx.read_edgelist(file_path, delimiter=',', create_using=nx.Graph(), nodetype=int, comments=\"s\")\n",
        "print(f\"Number of nodes: {G.number_of_nodes()}\")\n",
        "print(f\"Number of edges: {G.number_of_edges()}\")\n"
      ],
      "metadata": {
        "colab": {
          "base_uri": "https://localhost:8080/"
        },
        "id": "B8E7BiQXV-un",
        "outputId": "e31b0723-e655-440d-82c6-65701de0fd4d"
      },
      "execution_count": 6,
      "outputs": [
        {
          "output_type": "stream",
          "name": "stdout",
          "text": [
            "   source_node  destination_node\n",
            "0            1            690569\n",
            "1            1            315892\n",
            "2            1            189226\n",
            "3            2            834328\n",
            "4            2           1615927\n",
            "Number of nodes: 1862220\n",
            "Number of edges: 6168563\n"
          ]
        }
      ]
    },
    {
      "cell_type": "code",
      "source": [
        "def jaccard_similarity(user1, user2, graph):\n",
        "    neighbors1 = set(graph.neighbors(user1))\n",
        "    neighbors2 = set(graph.neighbors(user2))\n",
        "\n",
        "    intersection = len(neighbors1 & neighbors2)\n",
        "    union = len(neighbors1 | neighbors2)\n",
        "\n",
        "    if union == 0:\n",
        "        return 0\n",
        "    return intersection / union\n"
      ],
      "metadata": {
        "id": "wja4fXerV_Ki"
      },
      "execution_count": 7,
      "outputs": []
    },
    {
      "cell_type": "code",
      "source": [
        "def recommend_friends(user, graph, top_n=5):\n",
        "    similarity_scores = []\n",
        "\n",
        "    for other_user in graph.nodes():\n",
        "        if user != other_user:\n",
        "            sim_score = jaccard_similarity(user, other_user, graph)\n",
        "            similarity_scores.append((other_user, sim_score))\n",
        "\n",
        "    similarity_scores.sort(key=lambda x: x[1], reverse=True)\n",
        "\n",
        "    recommended_friends = [x[0] for x in similarity_scores[:top_n]]\n",
        "    return recommended_friends\n"
      ],
      "metadata": {
        "id": "sn_PVJ4AWECX"
      },
      "execution_count": 8,
      "outputs": []
    },
    {
      "cell_type": "code",
      "source": [
        "recommended_friends = recommend_friends(1, G, top_n=5)\n",
        "print(f\"Recommended friends for user 1: {recommended_friends}\")\n"
      ],
      "metadata": {
        "colab": {
          "base_uri": "https://localhost:8080/"
        },
        "id": "pFNaZW8yWES-",
        "outputId": "af4e4ab7-46b6-48ed-8431-8656c69d0211"
      },
      "execution_count": 9,
      "outputs": [
        {
          "output_type": "stream",
          "name": "stdout",
          "text": [
            "Recommended friends for user 1: [799834, 1413310, 1465653, 1841146, 181253]\n"
          ]
        }
      ]
    },
    {
      "cell_type": "code",
      "source": [],
      "metadata": {
        "id": "sK_ZM6gjWm4d"
      },
      "execution_count": null,
      "outputs": []
    }
  ]
}